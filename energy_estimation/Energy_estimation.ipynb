{
 "cells": [
  {
   "cell_type": "code",
   "execution_count": 6,
   "id": "particular-attachment",
   "metadata": {},
   "outputs": [],
   "source": [
    "import pandas as pd\n",
    "import glob\n",
    "import os\n",
    "import keras"
   ]
  },
  {
   "cell_type": "code",
   "execution_count": 2,
   "id": "imported-incidence",
   "metadata": {},
   "outputs": [],
   "source": [
    "#save the models to model_folder\n",
    "model_folder='F:/Research/EnergyEstimation/models/'\n",
    "#output folder of trajactory got from the simulation\n",
    "output_folder='E:/SUMO/RUIXIAO/newChattanooganet/Data/output/outtest/'\n",
    "#create energy_folder to save the prediction results\n",
    "energy_folder='F:/Research/EnergyEstimation/test/'"
   ]
  },
  {
   "cell_type": "markdown",
   "id": "young-ensemble",
   "metadata": {},
   "source": [
    "# Select scenario for weather condition"
   ]
  },
  {
   "cell_type": "code",
   "execution_count": 3,
   "id": "moving-cycling",
   "metadata": {},
   "outputs": [],
   "source": [
    "#weather option: rainy, sunny, windy, and snowy\n",
    "weather = 'rainy'"
   ]
  },
  {
   "cell_type": "markdown",
   "id": "sealed-speech",
   "metadata": {},
   "source": [
    "# Load microscopic energy eatimation model for different vehicle classes\n"
   ]
  },
  {
   "cell_type": "code",
   "execution_count": 4,
   "id": "developing-orange",
   "metadata": {},
   "outputs": [
    {
     "name": "stdout",
     "output_type": "stream",
     "text": [
      "WARNING:tensorflow:From C:\\ProgramData\\Anaconda3\\lib\\site-packages\\keras\\backend\\tensorflow_backend.py:422: The name tf.global_variables is deprecated. Please use tf.compat.v1.global_variables instead.\n",
      "\n"
     ]
    }
   ],
   "source": [
    "model_diesel =  keras.models.load_model(f'{model_folder}diesel.model')\n",
    "model_hybrid =  keras.models.load_model(f'{model_folder}hybrid.model')\n",
    "model_electric =  keras.models.load_model(f'{model_folder}electric.model')"
   ]
  },
  {
   "cell_type": "markdown",
   "id": "surrounded-address",
   "metadata": {},
   "source": [
    "# Predict energy consumption of each trips "
   ]
  },
  {
   "cell_type": "code",
   "execution_count": 5,
   "id": "sensitive-opinion",
   "metadata": {},
   "outputs": [],
   "source": [
    "path = f'{output_folder}'                    \n",
    "all_files = glob.glob(os.path.join(path, \"Trajectory*.csv\")) \n",
    "colnames=['time_ms','speed','acceleration','vehicle_ref','actorConfig_id','actorConfig_emissionClass','actorConfig_fuel','actorConfig_ref','actorConfig_vehicleClass']\n",
    "for f in all_files:\n",
    "    trip=pd.read_csv(f,names=colnames, header=None)\n",
    "    trip = trip[trip.speed != 'speed']\n",
    "    trip = trip[trip.acceleration != 'acceleration']\n",
    "    trip['speed']=trip['speed'].astype(float)*0.036 #km/h\n",
    "    #find the vehicle class of this trip based on the column \"actorConfig_fuel\"\n",
    "    if trip['actorConfig_fuel'].iloc[2]=='Gasoline':\n",
    "        Vclass = 'diesel'\n",
    "    elif trip['actorConfig_fuel'].iloc[2]=='HybridGasoline':\n",
    "        Vclass = 'hybrid'\n",
    "    elif trip['actorConfig_fuel'].iloc[2]=='Electric':\n",
    "        Vclass = 'electric'\n",
    "    if Vclass == 'electric':\n",
    "        trip['acceleration']=trip['acceleration'].astype(float)*0.001*3.28084\n",
    "        #ft/s2\n",
    "    else:\n",
    "        trip['acceleration']=trip['acceleration'].astype(float)*0.001 \n",
    "        #m/s2\n",
    "    if weather == 'rainy':\n",
    "        trip['temperature']= 60 \n",
    "        trip['humidity']= 0.9 #range[0,1]\n",
    "    if weather == 'sunny':\n",
    "        trip['temperature']= 70\n",
    "        trip['humidity']= 0.5\n",
    "    if weather == 'windy':\n",
    "        trip['temperature']= 60\n",
    "        trip['humidity']= 0.6\n",
    "    if weather == 'snowy':\n",
    "        trip['temperature']= 30\n",
    "        trip['humidity']= 0.4\n",
    "    trip['roadGrade']= 0\n",
    "    input2esti=trip[['speed','acceleration','temperature','humidity','roadGrade']]\n",
    "    #prdiction \n",
    "    if Vclass == 'diesel':\n",
    "        pre = model_diesel.predict(input2esti)\n",
    "        tripf=pd.concat([trip,pd.DataFrame(pre,columns=['energy_'+Vclass])], axis=1) \n",
    "        #write the predicted results \n",
    "        with open(f'{energy_folder}' + Vclass +'_'+ f[-44:-4] + '.csv', 'w', newline='') as oFile:\n",
    "            tripf.to_csv(oFile, index = False)\n",
    "    elif Vclass == 'hybrid':\n",
    "        pre = model_hybrid.predict(input2esti)\n",
    "        tripf=pd.concat([trip,pd.DataFrame(pre,columns=['energy_'+Vclass])], axis=1) \n",
    "        #write the predicted results \n",
    "        with open(f'{energy_folder}' + Vclass +'_'+ f[-44:-4] + '.csv', 'w', newline='') as oFile:\n",
    "            tripf.to_csv(oFile, index = False)\n",
    "    elif Vclass == 'electric':\n",
    "        pre = model_electric.predict(input2esti) \n",
    "        tripf=pd.concat([trip,pd.DataFrame(pre,columns=['energy_'+Vclass])], axis=1)\n",
    "        #write the predicted results \n",
    "        with open(f'{energy_folder}' + Vclass +'_'+ f[-44:-4] + '.csv', 'w', newline='') as oFile:\n",
    "            tripf.to_csv(oFile, index = False)\n",
    "    "
   ]
  },
  {
   "cell_type": "code",
   "execution_count": null,
   "id": "protected-hundred",
   "metadata": {},
   "outputs": [],
   "source": []
  }
 ],
 "metadata": {
  "kernelspec": {
   "display_name": "Python 3",
   "language": "python",
   "name": "python3"
  },
  "language_info": {
   "codemirror_mode": {
    "name": "ipython",
    "version": 3
   },
   "file_extension": ".py",
   "mimetype": "text/x-python",
   "name": "python",
   "nbconvert_exporter": "python",
   "pygments_lexer": "ipython3",
   "version": "3.7.3"
  }
 },
 "nbformat": 4,
 "nbformat_minor": 5
}
